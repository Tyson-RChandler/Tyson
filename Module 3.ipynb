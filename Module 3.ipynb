{
 "cells": [
  {
   "cell_type": "code",
   "execution_count": 40,
   "id": "5222721e-ca57-4459-ac98-064790b80baa",
   "metadata": {},
   "outputs": [],
   "source": [
    "import pandas as pd\n",
    "import requests\n",
    "from bs4 import BeautifulSoup"
   ]
  },
  {
   "cell_type": "code",
   "execution_count": 41,
   "id": "e0292064-0b50-402b-a3d7-11c82c867bd3",
   "metadata": {},
   "outputs": [],
   "source": [
    "response = requests.get('https://btech-data-analytics.github.io/bridgerland-technical-college/bookstore.html').text"
   ]
  },
  {
   "cell_type": "code",
   "execution_count": 42,
   "id": "0cb7a74a-3723-40be-8b67-c38771362283",
   "metadata": {},
   "outputs": [],
   "source": [
    "soup = BeautifulSoup(response, 'html.parser')"
   ]
  },
  {
   "cell_type": "code",
   "execution_count": 43,
   "id": "9c5e1d73-bd2c-4e0e-a994-6bd3cd29e1e6",
   "metadata": {},
   "outputs": [],
   "source": [
    "author=[]\n",
    "title=[]\n",
    "animal=[]\n",
    "ISBN=[]\n",
    "pages=[]\n",
    "price=[]\n",
    "\n",
    "for book in soup.find('table').find_all('tr', class_='book'):\n",
    "   ISBN.append(book.find_all('td')[0].text)\n",
    "   title.append(book.find_all('td')[1].text)\n",
    "   author.append(book.find_all('td')[2].text)\n",
    "   pages.append(book.find_all('td')[4].text)\n",
    "   animal.append(book.find_all('td')[5].text)\n",
    "   price.append(book.find_all('td')[6].text)"
   ]
  },
  {
   "cell_type": "code",
   "execution_count": 44,
   "id": "a9e81ecb-6c2c-4966-bd00-c2422fd4d441",
   "metadata": {},
   "outputs": [
    {
     "data": {
      "text/html": [
       "<div>\n",
       "<style scoped>\n",
       "    .dataframe tbody tr th:only-of-type {\n",
       "        vertical-align: middle;\n",
       "    }\n",
       "\n",
       "    .dataframe tbody tr th {\n",
       "        vertical-align: top;\n",
       "    }\n",
       "\n",
       "    .dataframe thead th {\n",
       "        text-align: right;\n",
       "    }\n",
       "</style>\n",
       "<table border=\"1\" class=\"dataframe\">\n",
       "  <thead>\n",
       "    <tr style=\"text-align: right;\">\n",
       "      <th></th>\n",
       "      <th>ISBN</th>\n",
       "      <th>author</th>\n",
       "      <th>title</th>\n",
       "      <th>animal</th>\n",
       "      <th>pages</th>\n",
       "      <th>price</th>\n",
       "    </tr>\n",
       "  </thead>\n",
       "  <tbody>\n",
       "    <tr>\n",
       "      <th>0</th>\n",
       "      <td>978-1234567890</td>\n",
       "      <td>Penelope Wainwright</td>\n",
       "      <td>Whiskers of Wisdom: Tales from Feline Philosop...</td>\n",
       "      <td>Cats</td>\n",
       "      <td>256</td>\n",
       "      <td>$19.99</td>\n",
       "    </tr>\n",
       "    <tr>\n",
       "      <th>1</th>\n",
       "      <td>978-2345678901</td>\n",
       "      <td>Jasper Sterling</td>\n",
       "      <td>Purrfectly Pawesome: A Cat's Life</td>\n",
       "      <td>Cats</td>\n",
       "      <td>192</td>\n",
       "      <td>$15.99</td>\n",
       "    </tr>\n",
       "    <tr>\n",
       "      <th>2</th>\n",
       "      <td>978-3456789012</td>\n",
       "      <td>Penelope Wainwright</td>\n",
       "      <td>Cat Tales: Adventures in Whiskerland</td>\n",
       "      <td>Cats</td>\n",
       "      <td>320</td>\n",
       "      <td>$21.99</td>\n",
       "    </tr>\n",
       "    <tr>\n",
       "      <th>3</th>\n",
       "      <td>978-4567890123</td>\n",
       "      <td>Maximilian Thorne</td>\n",
       "      <td>The Enigmatic Paws: Mysteries of Meowville</td>\n",
       "      <td>Cats</td>\n",
       "      <td>288</td>\n",
       "      <td>$17.99</td>\n",
       "    </tr>\n",
       "    <tr>\n",
       "      <th>4</th>\n",
       "      <td>978-5678901234</td>\n",
       "      <td>Isadora Harrington</td>\n",
       "      <td>Cats in Wonderland</td>\n",
       "      <td>Cats</td>\n",
       "      <td>224</td>\n",
       "      <td>$16.99</td>\n",
       "    </tr>\n",
       "  </tbody>\n",
       "</table>\n",
       "</div>"
      ],
      "text/plain": [
       "             ISBN               author  \\\n",
       "0  978-1234567890  Penelope Wainwright   \n",
       "1  978-2345678901      Jasper Sterling   \n",
       "2  978-3456789012  Penelope Wainwright   \n",
       "3  978-4567890123    Maximilian Thorne   \n",
       "4  978-5678901234   Isadora Harrington   \n",
       "\n",
       "                                               title animal pages   price  \n",
       "0  Whiskers of Wisdom: Tales from Feline Philosop...   Cats   256  $19.99  \n",
       "1                  Purrfectly Pawesome: A Cat's Life   Cats   192  $15.99  \n",
       "2               Cat Tales: Adventures in Whiskerland   Cats   320  $21.99  \n",
       "3         The Enigmatic Paws: Mysteries of Meowville   Cats   288  $17.99  \n",
       "4                                 Cats in Wonderland   Cats   224  $16.99  "
      ]
     },
     "execution_count": 44,
     "metadata": {},
     "output_type": "execute_result"
    }
   ],
   "source": [
    "df=pd.DataFrame({\n",
    "    'ISBN' : ISBN,\n",
    "    'author':author,\n",
    "    'title' : title,\n",
    "    'animal' : animal,\n",
    "    'pages' : pages,\n",
    "    'price' : price\n",
    "})\n",
    "df.head()"
   ]
  },
  {
   "cell_type": "code",
   "execution_count": 45,
   "id": "3ded4cf1-7ec3-4813-952d-1f36bb44580a",
   "metadata": {},
   "outputs": [
    {
     "name": "stdout",
     "output_type": "stream",
     "text": [
      "<class 'pandas.core.frame.DataFrame'>\n",
      "RangeIndex: 15 entries, 0 to 14\n",
      "Data columns (total 6 columns):\n",
      " #   Column  Non-Null Count  Dtype \n",
      "---  ------  --------------  ----- \n",
      " 0   ISBN    15 non-null     object\n",
      " 1   author  15 non-null     object\n",
      " 2   title   15 non-null     object\n",
      " 3   animal  15 non-null     object\n",
      " 4   pages   15 non-null     object\n",
      " 5   price   15 non-null     object\n",
      "dtypes: object(6)\n",
      "memory usage: 852.0+ bytes\n"
     ]
    }
   ],
   "source": [
    "df.info()"
   ]
  },
  {
   "cell_type": "code",
   "execution_count": 46,
   "id": "c9a8de48-c459-42a1-9450-c92a45040bc5",
   "metadata": {},
   "outputs": [
    {
     "data": {
      "text/plain": [
       "animal\n",
       "Cats    238.4\n",
       "Dogs    256.0\n",
       "Name: pages, dtype: float64"
      ]
     },
     "execution_count": 46,
     "metadata": {},
     "output_type": "execute_result"
    }
   ],
   "source": [
    "df['pages']=pd.to_numeric(df['pages'])\n",
    "df.groupby('animal')['pages'].mean()\n"
   ]
  },
  {
   "cell_type": "code",
   "execution_count": 47,
   "id": "eff1e797-8eb8-4235-9bbb-d27711ce4d2d",
   "metadata": {},
   "outputs": [
    {
     "data": {
      "text/plain": [
       "animal\n",
       "Cats    17.79\n",
       "Dogs    26.59\n",
       "Name: prices, dtype: float64"
      ]
     },
     "execution_count": 47,
     "metadata": {},
     "output_type": "execute_result"
    }
   ],
   "source": [
    "df['prices'] = df['price'].str.replace('$', '', regex=False)\n",
    "df['prices']=pd.to_numeric(df['prices'])\n",
    "df.groupby('animal')['prices'].mean()"
   ]
  },
  {
   "cell_type": "code",
   "execution_count": 18,
   "id": "aebbf739-2ff2-4d78-a7e5-526a793e2b21",
   "metadata": {},
   "outputs": [
    {
     "data": {
      "text/plain": [
       "author\n",
       "Penelope Wainwright    4\n",
       "Jasper Sterling        2\n",
       "Benjamin Barkley       2\n",
       "Maximilian Thorne      1\n",
       "Isadora Harrington     1\n",
       "Celeste Nightshade     1\n",
       "Seraphina Montague     1\n",
       "Sophie Shepherd        1\n",
       "Oliver Obedience       1\n",
       "Ruby Ruffington        1\n",
       "Name: count, dtype: int64"
      ]
     },
     "execution_count": 18,
     "metadata": {},
     "output_type": "execute_result"
    }
   ],
   "source": [
    "df['author'].value_counts()"
   ]
  },
  {
   "cell_type": "code",
   "execution_count": 19,
   "id": "04e050f6-1ec0-4af0-a82f-bf9c06f303e1",
   "metadata": {},
   "outputs": [
    {
     "data": {
      "text/plain": [
       "animal\n",
       "Cats    10\n",
       "Dogs     5\n",
       "Name: count, dtype: int64"
      ]
     },
     "execution_count": 19,
     "metadata": {},
     "output_type": "execute_result"
    }
   ],
   "source": [
    "df['animal'].value_counts()"
   ]
  }
 ],
 "metadata": {
  "kernelspec": {
   "display_name": "Python 3 (ipykernel)",
   "language": "python",
   "name": "python3"
  },
  "language_info": {
   "codemirror_mode": {
    "name": "ipython",
    "version": 3
   },
   "file_extension": ".py",
   "mimetype": "text/x-python",
   "name": "python",
   "nbconvert_exporter": "python",
   "pygments_lexer": "ipython3",
   "version": "3.12.5"
  }
 },
 "nbformat": 4,
 "nbformat_minor": 5
}
