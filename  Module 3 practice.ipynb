{
 "cells": [
  {
   "cell_type": "code",
   "execution_count": 10,
   "id": "af11acd1-b01a-4777-845d-ee0a42510b69",
   "metadata": {},
   "outputs": [],
   "source": [
    "import pandas as pd\n",
    "import requests\n",
    "from bs4 import BeautifulSoup"
   ]
  },
  {
   "cell_type": "code",
   "execution_count": 11,
   "id": "78bcac5e-2645-4352-8157-1d060b469385",
   "metadata": {},
   "outputs": [],
   "source": [
    "response = requests.get('https://btech-data-analytics.github.io/bridgerland-technical-college/employees_3.html').text\n"
   ]
  },
  {
   "cell_type": "code",
   "execution_count": 12,
   "id": "acc0fdb7-f016-4c7b-a1e0-c8ad3541dce0",
   "metadata": {},
   "outputs": [],
   "source": [
    "soup = BeautifulSoup(response, 'html.parser')"
   ]
  },
  {
   "cell_type": "code",
   "execution_count": 29,
   "id": "aaa51e1b-339d-43bc-b3f3-a228cb41c06a",
   "metadata": {},
   "outputs": [],
   "source": [
    "id=[]\n",
    "name=[]\n",
    "age=[]\n",
    "for employee in soup.find('table').find_all('tr', class_='employee'):\n",
    "   id.append(employee.find_all('td')[0].text)\n",
    "   name.append(employee.find_all('td')[1].text)\n",
    "   age.append(employee.find_all('td')[2].text)"
   ]
  },
  {
   "cell_type": "code",
   "execution_count": 33,
   "id": "a77e8aa8-cdc0-4af6-b5ee-1177cdf26980",
   "metadata": {},
   "outputs": [
    {
     "data": {
      "text/html": [
       "<div>\n",
       "<style scoped>\n",
       "    .dataframe tbody tr th:only-of-type {\n",
       "        vertical-align: middle;\n",
       "    }\n",
       "\n",
       "    .dataframe tbody tr th {\n",
       "        vertical-align: top;\n",
       "    }\n",
       "\n",
       "    .dataframe thead th {\n",
       "        text-align: right;\n",
       "    }\n",
       "</style>\n",
       "<table border=\"1\" class=\"dataframe\">\n",
       "  <thead>\n",
       "    <tr style=\"text-align: right;\">\n",
       "      <th></th>\n",
       "      <th>id</th>\n",
       "      <th>name</th>\n",
       "      <th>age</th>\n",
       "    </tr>\n",
       "  </thead>\n",
       "  <tbody>\n",
       "    <tr>\n",
       "      <th>0</th>\n",
       "      <td>101</td>\n",
       "      <td>John Doe</td>\n",
       "      <td>28</td>\n",
       "    </tr>\n",
       "    <tr>\n",
       "      <th>1</th>\n",
       "      <td>102</td>\n",
       "      <td>Jane Smith</td>\n",
       "      <td>32</td>\n",
       "    </tr>\n",
       "    <tr>\n",
       "      <th>2</th>\n",
       "      <td>103</td>\n",
       "      <td>Robert Johnson</td>\n",
       "      <td>24</td>\n",
       "    </tr>\n",
       "    <tr>\n",
       "      <th>3</th>\n",
       "      <td>104</td>\n",
       "      <td>Mary Johnson</td>\n",
       "      <td>29</td>\n",
       "    </tr>\n",
       "    <tr>\n",
       "      <th>4</th>\n",
       "      <td>105</td>\n",
       "      <td>Michael Brown</td>\n",
       "      <td>35</td>\n",
       "    </tr>\n",
       "  </tbody>\n",
       "</table>\n",
       "</div>"
      ],
      "text/plain": [
       "    id            name age\n",
       "0  101        John Doe  28\n",
       "1  102      Jane Smith  32\n",
       "2  103  Robert Johnson  24\n",
       "3  104    Mary Johnson  29\n",
       "4  105   Michael Brown  35"
      ]
     },
     "execution_count": 33,
     "metadata": {},
     "output_type": "execute_result"
    }
   ],
   "source": [
    "df=pd.DataFrame({\n",
    "    'id':id,\n",
    "    'name' : name,\n",
    "    'age' : age\n",
    "})\n",
    "df.head()"
   ]
  },
  {
   "cell_type": "code",
   "execution_count": 40,
   "id": "320dc3e6-f648-45c4-a904-22548d8ffcd3",
   "metadata": {},
   "outputs": [
    {
     "data": {
      "text/plain": [
       "29.875"
      ]
     },
     "execution_count": 40,
     "metadata": {},
     "output_type": "execute_result"
    }
   ],
   "source": [
    "df['age'].mean()\n"
   ]
  },
  {
   "cell_type": "code",
   "execution_count": 41,
   "id": "70b6e156-2b32-41f2-bd52-03f65183777d",
   "metadata": {},
   "outputs": [
    {
     "data": {
      "text/plain": [
       "0.0"
      ]
     },
     "execution_count": 41,
     "metadata": {},
     "output_type": "execute_result"
    }
   ],
   "source": [
    "df['age'].std()"
   ]
  },
  {
   "cell_type": "code",
   "execution_count": null,
   "id": "eca071fa-d1a2-4ab2-a1c2-386ee8a09c50",
   "metadata": {},
   "outputs": [],
   "source": []
  }
 ],
 "metadata": {
  "kernelspec": {
   "display_name": "Python 3 (ipykernel)",
   "language": "python",
   "name": "python3"
  },
  "language_info": {
   "codemirror_mode": {
    "name": "ipython",
    "version": 3
   },
   "file_extension": ".py",
   "mimetype": "text/x-python",
   "name": "python",
   "nbconvert_exporter": "python",
   "pygments_lexer": "ipython3",
   "version": "3.12.5"
  }
 },
 "nbformat": 4,
 "nbformat_minor": 5
}
